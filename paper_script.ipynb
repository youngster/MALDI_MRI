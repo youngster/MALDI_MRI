{
 "cells": [
  {
   "cell_type": "markdown",
   "id": "8089660a-3aa6-46fc-b59c-4a0e2242ec42",
   "metadata": {},
   "source": [
    "### Imports"
   ]
  },
  {
   "cell_type": "code",
   "execution_count": 1,
   "id": "86b5e930-7e64-4588-839e-749056652d63",
   "metadata": {},
   "outputs": [],
   "source": [
    "import numpy as np\n",
    "import pandas as pd\n",
    "from matplotlib import pyplot as plt\n",
    "from MALDI_class import MALDI, rawMALDI, binnedMALDI, selectedMALDI\n",
    "from metaspace_class import metaspace\n",
    "import os\n",
    "import nibabel as nib\n",
    "from sklearn.cluster import KMeans\n",
    "import skimage.morphology as morph\n",
    "from sklearn.decomposition import PCA\n"
   ]
  },
  {
   "cell_type": "markdown",
   "id": "23a8baf1-a4c0-46c0-b7ad-728bf0fe857e",
   "metadata": {},
   "source": [
    "### Set file parameters"
   ]
  },
  {
   "cell_type": "code",
   "execution_count": 2,
   "id": "bc7238b5-3abd-48e2-ae70-ee07bc0930e3",
   "metadata": {},
   "outputs": [
    {
     "name": "stdout",
     "output_type": "stream",
     "text": [
      "['brain201re_49_V1']\n"
     ]
    }
   ],
   "source": [
    "raw_data_folder = '/data/datadata/40_MALDI/MALDI/'\n",
    "#'/data/pt_02040/MyelinQuantificationProject/raw_data/MALDI/'\n",
    "background_mask_folder = '/data/datadata/40_MALDI/MALDI/coregistration/'\n",
    "#'/data/pt_02040/MyelinQuantificationProject/coregistration/'\n",
    "\n",
    "results_folder = 'expdata/final/'\n",
    "#'/data/pt_02040/MyelinQuantificationProject/results_final/\n",
    "if not os.file.ifile(results_folder + 'samples.csv'):\n",
    "    raise ValueError('provide samples.csv in results folder with sample names in raw_data_folder without imzML extension')\n",
    "    \n",
    "samples = np.loadtxt(results_folder + 'samples.csv', dtype = str)#pattern: 'brain{sample}re_{section}_{ROI}\n",
    "paths = np.array([raw_data_folder + samples[i].split('_')[0] + '-' + samples[i].split('_')[1] + '/' + samples[i].split('_')[2] + '/RAW-Data/' + samples[i].split('_')[0] + '-' + samples[i].split('_')[1] + '_' + samples[i].split('_')[2] + '_pos' + '.imzML' for i in range(len(samples))])\n",
    "\n",
    "\n",
    "#REMOVE FROM HERE\n",
    "for sample_index in range(len(samples)):\n",
    "    if not os.path.isfile(paths[sample_index]):\n",
    "        paths[sample_index] = paths[sample_index].split('.')[0] + '_validated.' + paths[sample_index].split('.')[1]\n",
    "    if not os.path.isfile(paths[sample_index].split('.')[0] + '.ibd'):\n",
    "        paths[sample_index] = None\n",
    "        samples[sample_index] = None\n",
    "paths = paths[samples != 'None']\n",
    "samples = samples[samples != 'None']\n",
    "#samples = np.array([samples[0]])\n",
    "#paths = np.array([paths[0]])\n",
    "samples = samples[:1]\n",
    "paths = paths[:1]\n",
    "#REMOVE UNTIL HERE\n",
    "print(samples)"
   ]
  },
  {
   "cell_type": "markdown",
   "id": "82a7218b-52fd-4739-9ff6-98f1b3dd485c",
   "metadata": {},
   "source": [
    "### Set MALDI data parameters"
   ]
  },
  {
   "cell_type": "code",
   "execution_count": 3,
   "id": "8d1638a0-14b1-479a-9ace-79b454d167ff",
   "metadata": {},
   "outputs": [],
   "source": [
    "MALDI_parameters = {\n",
    "\t'resolution' : 1e-5,\t\t#ppm\n",
    "\t'accuracy' : 2.5e-6,\n",
    "    'global_range' : (400., 1000.),\n",
    "\t'normalize' : 'tic',\n",
    "    'n_processes' : 1, \n",
    "    'n_clusters' : 3\n",
    "}\n",
    "MALDI_results = {\n",
    "}"
   ]
  },
  {
   "cell_type": "markdown",
   "id": "dbf0f7fb-816c-4f5a-aa24-46b0eb303a10",
   "metadata": {
    "jp-MarkdownHeadingCollapsed": true,
    "tags": []
   },
   "source": [
    "### Set METASPACE parameters"
   ]
  },
  {
   "cell_type": "code",
   "execution_count": 4,
   "id": "3fafb300-064a-4170-ac19-476853cf26c1",
   "metadata": {},
   "outputs": [],
   "source": [
    "### Database parameters ###\n",
    "name = results_folder + 'metaspacefiltering'\n",
    "\n",
    "metaspaceparams = {\n",
    "\t'databases' : ['HMDB', 'SwissLipids', 'LipidMaps'],\n",
    "\t'max_fdr' : .05,\n",
    "    'api_key' : 'vxBtcaq839qX'\n",
    "\t}\n",
    "\n",
    "### Matrix reference measurement parameters ###\n",
    "matrixproject = 'b9195154-ba0d-11eb-96db-bbe19b6ae1a2'\n",
    "matrixdataset = ['2021-05-21_10h24m13s', '2021-06-09_13h10m10s', '2021-07-02_15h25m26s']\n",
    "\n",
    "### SAMPLE IDENTIFIERS FOR OLD, GREY NEW AND BRIGHT NEW DATA ###\n",
    "project_id = '7b876960-ecbc-11ec-89bf-5b32557b3a87'\n",
    "dataset_ids = ['2020-11-16_10h33m20s', '2020-11-16_11h12m42s', '2020-11-16_11h13m38s', '2020-11-16_11h15m09s', '2020-11-16_11h18m12s', '2020-11-16_11h21m21s', '2020-11-16_11h23m40s', '2022-04-22_13h50m55s', '2022-04-22_13h53m22s', '2022-04-22_13h43m51s', '2022-04-22_13h58m27s', '2022-04-22_13h57m25s', '2022-04-22_13h59m24s', '2022-04-22_14h00m05s']\n"
   ]
  },
  {
   "cell_type": "markdown",
   "id": "bb72fdee-a8c6-448f-87ab-88f5a0934646",
   "metadata": {
    "jp-MarkdownHeadingCollapsed": true,
    "tags": []
   },
   "source": [
    "### Get matrix annotations"
   ]
  },
  {
   "cell_type": "code",
   "execution_count": 5,
   "id": "14874a21-53c0-497c-bf34-54e51d2774af",
   "metadata": {},
   "outputs": [],
   "source": [
    "matrix = metaspace(matrixdataset, databases = metaspaceparams['databases'], proj_id = matrixproject, api_key = metaspaceparams['api_key'])\n",
    "matrix.get_datasets(drop_duplicates = False, sort_by = ['mz'])\n",
    "matrixmzs = np.unique(matrix.data.mz.values)\n",
    "#manually selected matrix ions\n",
    "matrixions = ['C24H49NO3+H+', 'C27H46O4+Na+', 'C47H79NO8+Na+', 'C42H82NO11P+H+', 'C49H83NO8+Na+', 'C19H14O9+Na+', 'C10H15N5O9P2+H+', 'C24H40O4+Na+', 'C24H50NO7P+K+', 'C30H58NO10P+H+', 'C38H77NO4+Na+', 'C31H60NO10P+H+', 'C42H81NO3+H+', 'C32H62NO10P+H+', 'C40H81NO4+Na+', 'C41H83NO5+Na+', 'C37H71O8P+K+', 'C40H66O12+H+', 'C41H77O8P+K+', 'C43H76NO7P+Na+', 'C45H78NO7P+Na+', 'C42H81O10P+Na+', 'C45H80NO7P+Na+', 'C47H82NO7P+Na+', 'C46H90NO10P+H+', 'C47H93N2O6P+K+', 'C47H92NO8P+Na+', 'C46H90NO11P+H+', 'C48H94NO7P+K+', 'C20H36O2+H+', 'C20H43NO+H+', 'C21H36O5+Na+', 'C25H46O2+Na+', 'C23H47NO4+H+', 'C22H28O6+Na+', 'C30H50+Na+', 'C36H75N+H+', 'C26H54NO7P+H+', 'C40H81NO3+Na+', 'C42H81NO3+H+', 'C33H64NO9P+H+', 'C33H64NO10P+H+', 'C35H68NO9P+H+', 'C33H64NO10P+Na+', 'C35H68NO10P+Na+', 'C41H72O10+H+', 'C41H83N2O6P+H+', 'C23H34O5+H+', 'C27H44O2+H+', 'C26H38O4+H+', 'C37H70O12S+H+', 'C40H80NO8P+K+', 'C42H82NO8P+K+', 'C42H84NO8P+K+', 'C44H86NO8P+K+', 'C49H90NO8P+H+', 'C46H92NO11P+H+', 'C39H73O8P+K+', 'C45H74NO7P+H+']"
   ]
  },
  {
   "cell_type": "markdown",
   "id": "abb8a5a9-409f-4cb3-95a4-99a77bad61eb",
   "metadata": {
    "jp-MarkdownHeadingCollapsed": true,
    "tags": []
   },
   "source": [
    "### Get tissue annotations"
   ]
  },
  {
   "cell_type": "code",
   "execution_count": 6,
   "id": "3e953ab4-a29b-4ae6-8e27-efb596b2c26c",
   "metadata": {},
   "outputs": [],
   "source": [
    "mydataset = metaspace(dataset_ids, databases = metaspaceparams['databases'], proj_id = project_id, api_key = metaspaceparams['api_key'])"
   ]
  },
  {
   "cell_type": "markdown",
   "id": "01a8353b-eba6-467a-a1be-8e4ae02f88b4",
   "metadata": {
    "jp-MarkdownHeadingCollapsed": true,
    "tags": []
   },
   "source": [
    "### Set filter parameters"
   ]
  },
  {
   "cell_type": "code",
   "execution_count": 7,
   "id": "39b4d032-0678-462f-949d-561422128c2c",
   "metadata": {},
   "outputs": [],
   "source": [
    "filterparams = {\n",
    "\t'drop_duplicates' : False,\n",
    "\t'msm' : [.8],\t\t#values for msm score threshold to evaluate\n",
    "\t'appearances' : [0],\t\t#number of datasets a peak must appear in\n",
    "\t'force_dataset' : [None],\t\t#datasets a peak must appear in at least on of\n",
    "\t'matrixmzs' : matrixmzs,\t\t#List of matrix mz values to remove from the peaklist\n",
    "\t'matrixions' : matrixions,\t\t#List of matrix ion names to remove from the peaklist\n",
    "\t'removerange' : 10e-6,\n",
    "\t'mzrange' : [400,1000]\n",
    "}"
   ]
  },
  {
   "cell_type": "markdown",
   "id": "fe82d60c-7974-488e-b246-bd70a18dfd73",
   "metadata": {
    "jp-MarkdownHeadingCollapsed": true,
    "tags": []
   },
   "source": [
    "### Filter annotations according to filterparameters and store the results in a csv table and overview figure"
   ]
  },
  {
   "cell_type": "code",
   "execution_count": 8,
   "id": "fc05020a-5671-489c-8ab0-f1f19040319a",
   "metadata": {},
   "outputs": [
    {
     "name": "stdout",
     "output_type": "stream",
     "text": [
      "0 0.8 None\n",
      "filter by msm>0.8 reduced to (249,) entries\n",
      "filter by appearance=0 reduced to (249,) entries\n",
      "drop_duplicates reduced to (177,) entries\n",
      "filter by matrixmzs reduced to (163,) entries\n",
      "filter by matrixmzs and matrixions reduced to (114,) entries\n",
      "filter by removerrange reduced to (80,) entries\n",
      "filter by msm>[400, 1000] reduced to (76,) entries\n"
     ]
    }
   ],
   "source": [
    "for msm in filterparams['msm']:\n",
    "\tfor appearances in filterparams['appearances']:\n",
    "\t\tfor force_dataset in filterparams['force_dataset']:\n",
    "\t\t\tprint(appearances, msm, force_dataset)\n",
    "\n",
    "\t\t\t### GET DATASETS ###\n",
    "\t\t\tmydataset.get_datasets(drop_duplicates = filterparams['drop_duplicates'], sort_by = ['mz'])\n",
    "\t\t\tmydataset.data.sort_values(['mz'], inplace = True)\n",
    "\n",
    "\t\t\t### FILTER BY MSM ###\n",
    "\t\t\tmydataset.filter_by(parameters = ['msm'], values = [str(msm)], operators = ['>'])\n",
    "\t\t\tname += '_msm>' + str(msm)\n",
    "\t\t\tprint('filter by msm>' + str(msm) + ' reduced to ' + str(np.unique(mydataset.data.mz.values).shape) + ' entries')\n",
    "\t\t\t#mydataset.data.to_csv(name + '.csv')\n",
    "\n",
    "\t\t\t### FILTER BY APPEARANCE ###\n",
    "\t\t\tval, ind, counts = np.unique(mydataset.data.mz.values, return_index = True, return_counts = True)\n",
    "\t\t\tmydataset.data = mydataset.data[mydataset.data.mz.isin(val[counts>appearances])]\n",
    "\t\t\tname += '_appearance=' + str(appearances)\n",
    "\t\t\tprint('filter by appearance=' + str(appearances) + ' reduced to ' + str(np.unique(mydataset.data.mz.values).shape) + ' entries')\n",
    "\t\t\t#mydataset.data.to_csv(name + '.csv')\n",
    "\n",
    "\t\t\t### FILTER BY SINGLE DATASET ###\n",
    "\t\t\tif force_dataset is not None:\n",
    "\t\t\t\tmydataset.filter_by(parameters = ['dataset'], values = [str(force_dataset)], operators = ['=='])\n",
    "\t\t\t\tname += '_force_dataset=' + str(force_dataset)\n",
    "\t\t\t\tprint('filter by force_dataset=' + str(force_dataset) + ' reduced to ' + str(np.unique(mydataset.data.mz.values).shape) + ' entries')\n",
    "\n",
    "\t\t\t### DROP DUPLICATES ###\n",
    "\t\t\tmydataset.data.drop_duplicates(subset = ['ionFormula', 'ion'], inplace = True)\t\t#remove resulting duplicates\n",
    "\t\t\tprint('drop_duplicates' + ' reduced to ' + str(np.unique(mydataset.data.mz.values).shape) + ' entries')\n",
    "\n",
    "\t\t\t### FILTER BY MATRIX MEASUREMENT ###\n",
    "\t\t\tif filterparams['matrixmzs'] is not None:\n",
    "\t\t\t\tmydataset.data = mydataset.data[~mydataset.data['mz'].isin(filterparams['matrixmzs'])]\n",
    "\t\t\t\tprint('filter by matrixmzs' + ' reduced to ' + str(np.unique(mydataset.data.mz.values).shape) + ' entries')\n",
    "\t\t\t\tmydataset.data = mydataset.data[~mydataset.data['ion'].isin(filterparams['matrixions'])]\n",
    "\t\t\t\tname += '_matrixmzs'\n",
    "\t\t\t\tprint('filter by matrixmzs and matrixions' + ' reduced to ' + str(np.unique(mydataset.data.mz.values).shape) + ' entries')\n",
    "\n",
    "\t\t\t### remove in 10ppm range ###\n",
    "\t\t\tif filterparams['removerange'] is not None:\n",
    "\t\t\t\tmydataset.filter_neighboring_mzs(rrange = filterparams['removerange'])\n",
    "\t\t\t\tname += '_removed' + str(filterparams['removerange'])\n",
    "\t\t\t\tprint('filter by removerrange' + ' reduced to ' + str(np.unique(mydataset.data.mz.values).shape) + ' entries')\n",
    "\n",
    "\t\t\t### FILTER BY mzrange ###\n",
    "\t\t\tmydataset.filter_by(parameters = ['mz'], values = [str(filterparams['mzrange'][0])], operators = ['>'])\n",
    "\t\t\tmydataset.filter_by(parameters = ['mz'], values = [str(filterparams['mzrange'][1])], operators = ['<'])\n",
    "\t\t\tname += '_mzrange>' + str(filterparams['mzrange'])\n",
    "\t\t\tprint('filter by msm>' + str(filterparams['mzrange']) + ' reduced to ' + str(np.unique(mydataset.data.mz.values).shape) + ' entries')\n",
    "\t\t\t#mydataset.data.to_csv(name + '.csv')\n",
    "\n",
    "\t\t\t### STORE DATA ###\n",
    "\t\t\tmydataset.data.insert(0, 'index', np.arange(1,mydataset.data.shape[0]+1))\n",
    "\t\t\tmydataset.data.to_csv(name + '.csv', columns = ['index', 'ionFormula', 'ion', 'mz', 'msm', 'rhoSpatial', 'rhoSpectral', 'moc', 'fdr', 'moleculeNames', 'moleculeGroups'])\n",
    "\t\t\tMALDI_results['selected_mzs'] = np.unique(mydataset.data.mz.values)\n",
    "\t\t\tn_peaks = len(MALDI_results['selected_mzs'])"
   ]
  },
  {
   "cell_type": "markdown",
   "id": "d924a477-ed5a-4c2d-ad50-9878dbfb5fb4",
   "metadata": {},
   "source": [
    "### Iterate through samples and process MALDI Data"
   ]
  },
  {
   "cell_type": "code",
   "execution_count": 9,
   "id": "b8d0d0c6-03d0-4783-be81-8313057a8af1",
   "metadata": {},
   "outputs": [
    {
     "name": "stderr",
     "output_type": "stream",
     "text": [
      "/home/sj/.local/lib/python3.10/site-packages/pyimzml/ontology/ontology.py:92: UserWarning: Accession MS:1000563 found with incorrect name \"Thermo RAW file\". Updating name to \"Thermo RAW format\".\n",
      "  warn(\n",
      "/home/sj/.local/lib/python3.10/site-packages/pyimzml/ontology/ontology.py:92: UserWarning: Accession MS:1000590 found with incorrect name \"contact organization\". Updating name to \"contact affiliation\".\n",
      "  warn(\n",
      "/home/sj/.local/lib/python3.10/site-packages/pyimzml/ontology/ontology.py:92: UserWarning: Accession IMS:1000042 found with incorrect name \"max count of pixel x\". Updating name to \"max count of pixels x\".\n",
      "  warn(\n",
      "/home/sj/.local/lib/python3.10/site-packages/pyimzml/ontology/ontology.py:92: UserWarning: Accession IMS:1000043 found with incorrect name \"max count of pixel y\". Updating name to \"max count of pixels y\".\n",
      "  warn(\n",
      "/home/sj/.local/lib/python3.10/site-packages/pyimzml/ontology/ontology.py:92: UserWarning: Accession IMS:1000046 found with incorrect name \"pixel size x\". Updating name to \"pixel size (x)\".\n",
      "  warn(\n",
      "/home/sj/.local/lib/python3.10/site-packages/pyimzml/ontology/ontology.py:92: UserWarning: Accession MS:1000838 found with incorrect name \"sprayed\". Updating name to \"sprayed MALDI matrix preparation\".\n",
      "  warn(\n"
     ]
    },
    {
     "name": "stdout",
     "output_type": "stream",
     "text": [
      "number of pixels 5229\n",
      "image shape [63 83]\n",
      "mass range (300.0013371474396, 1001.5039132578256)\n"
     ]
    }
   ],
   "source": [
    "MALDI_results['shape'] = []\n",
    "MALDI_results['TIC'] = []\n",
    "MALDI_results['center_of_mass'] = []\n",
    "MALDI_results['mzmaps'] = []\n",
    "MALDI_results['all_background_data'] = np.zeros((0,n_peaks))\n",
    "MALDI_results['all_tissue_data'] = np.zeros((0,n_peaks))\n",
    "MALDI_results['all_data'] = np.zeros((0,n_peaks))\n",
    "for sample_index in range(len(samples)):\n",
    "    ### LOAD DATA ###\n",
    "    if not os.path.isfile(paths[sample_index]):\n",
    "        paths[sample_index] = paths[sample_index].split('.')[0] + '_validated.' + paths[sample_index].split('.')[1]\n",
    "    M = MALDI(paths[sample_index], resolution = MALDI_parameters['resolution'], n_processes = MALDI_parameters['n_processes'])\n",
    "    print('number of pixels', len(M.indices))\n",
    "    print('image shape', M.shape)\n",
    "    ### GET RAW DATA ###\n",
    "    M_raw = rawMALDI(M.filename, M.resolution, M.range_, M.n_processes)\n",
    "    print('mass range', M_raw.range_)\n",
    "    MALDI_results['shape'].append(M_raw.shape)\n",
    "    ### NORMALIZE DATA ###\n",
    "    MALDI_results['TIC'].append(M_raw.normalize(algorithm = MALDI_parameters['normalize'], return_map = True))\n",
    "    ### CALCULATE CENTER OF MASS ###\n",
    "    MALDI_results['center_of_mass'].append(M_raw.center_of_mass(massrange = (550,900)))\n",
    "    ### CALCULATE MZ MAPS ###\n",
    "    imgstack = np.zeros((M.shape[0], M.shape[1], n_peaks))\n",
    "    for peak in range(n_peaks):\n",
    "        imgstack[:,:,peak] = M_raw.get_2D(M_raw.massvec(MALDI_results['selected_mzs'][peak]))\n",
    "    MALDI_results['mzmaps'].append(imgstack)\n",
    "    ### LOAD INITIAL BACKGROUND MASKS ###\n",
    "    mask = nib.load(background_mask_folder + samples[sample_index].split('_')[0] + '/inputs/' + 'MALDI_' + samples[sample_index].split('_')[0] + '_' + samples[sample_index].split('_')[1] + '_' + samples[sample_index].split('_')[2] + '_background_mask.nii.gz').get_fdata()\n",
    "    MALDI_results['all_background_data'] = np.append(MALDI_results['all_background_data'], imgstack[mask[:,:,0]!=0, :], axis = 0)\n",
    "    MALDI_results['all_tissue_data'] = np.append(MALDI_results['all_tissue_data'], imgstack[mask[:,:,0]==0, :], axis = 0)\n",
    "    MALDI_results['all_data'] = np.append(MALDI_results['all_data'], imgstack.reshape(M.shape[0]*M.shape[1], n_peaks), axis = 0)\n",
    "    \n",
    "    "
   ]
  },
  {
   "cell_type": "markdown",
   "id": "0f8f15c6-9a90-4085-945a-83039f030ff9",
   "metadata": {},
   "source": [
    "### Calculate mask"
   ]
  },
  {
   "cell_type": "code",
   "execution_count": 10,
   "id": "9c214744-a47a-4269-bf48-1fd76817fffa",
   "metadata": {},
   "outputs": [
    {
     "name": "stderr",
     "output_type": "stream",
     "text": [
      "/home/sj/.local/lib/python3.10/site-packages/sklearn/cluster/_kmeans.py:1146: RuntimeWarning: Explicit initial center position passed: performing only one init in KMeans instead of n_init=10.\n",
      "  self._check_params(X)\n"
     ]
    }
   ],
   "source": [
    "background_init_cluster = np.mean(MALDI_results['all_background_data'], axis = 0)\n",
    "tissue_init_cluster = KMeans(random_state = 1234, n_clusters =  MALDI_parameters['n_clusters']-1).fit(MALDI_results['all_tissue_data'])\n",
    "full_init_cluster = np.append(background_init_cluster, tissue_init_cluster.cluster_centers_).reshape(MALDI_parameters['n_clusters'], n_peaks)\n",
    "final_cluster = KMeans(random_state = 1234, n_clusters =  MALDI_parameters['n_clusters'], init = full_init_cluster).fit(MALDI_results['all_data'])\n",
    "\n",
    "\n"
   ]
  },
  {
   "cell_type": "code",
   "execution_count": 11,
   "id": "005abd60-484e-45f5-9a2b-3c285dee12e8",
   "metadata": {},
   "outputs": [],
   "source": [
    "MALDI_results['cluster_maps'] = []\n",
    "for sample_index in range(len(samples)):\n",
    "    mask = nib.load(background_mask_folder + samples[sample_index].split('_')[0] + '/inputs/' + 'MALDI_' + samples[sample_index].split('_')[0] + '_' + samples[sample_index].split('_')[1] + '_' + samples[sample_index].split('_')[2] + '_background_mask.nii.gz').get_fdata()\n",
    "    image = final_cluster.predict(MALDI_results['mzmaps'][sample_index].reshape(MALDI_results['shape'][sample_index][0]*MALDI_results['shape'][sample_index][1], n_peaks)).reshape(MALDI_results['shape'][sample_index])\n",
    "    opened = morph.area_opening(image, 4)\n",
    "    cluster_map = morph.area_closing(opened, 4)\n",
    "    cluster_map[mask[:,:,0]!=0] = 0\n",
    "    MALDI_results['cluster_maps'].append(cluster_map)\n",
    "    ### MAPPING ###\n",
    "    #final = np.copy(closedopened)\n",
    "    #final[final == 2] = 3\n",
    "    #final[final == 1] = 2\n",
    "    #final[final == 0] = 1\n",
    "    #final[final == 3] = 0"
   ]
  },
  {
   "cell_type": "markdown",
   "id": "52ca2bf7-df38-4e34-ab04-cbe770323d3d",
   "metadata": {},
   "source": [
    "### Get region spectra and calculate PCA"
   ]
  },
  {
   "cell_type": "code",
   "execution_count": 63,
   "id": "eeb0cb10-4b9b-462a-b85a-b9b27d51f767",
   "metadata": {},
   "outputs": [
    {
     "name": "stderr",
     "output_type": "stream",
     "text": [
      "/home/sj/.local/lib/python3.10/site-packages/pyimzml/ontology/ontology.py:92: UserWarning: Accession MS:1000563 found with incorrect name \"Thermo RAW file\". Updating name to \"Thermo RAW format\".\n",
      "  warn(\n",
      "/home/sj/.local/lib/python3.10/site-packages/pyimzml/ontology/ontology.py:92: UserWarning: Accession MS:1000590 found with incorrect name \"contact organization\". Updating name to \"contact affiliation\".\n",
      "  warn(\n",
      "/home/sj/.local/lib/python3.10/site-packages/pyimzml/ontology/ontology.py:92: UserWarning: Accession IMS:1000042 found with incorrect name \"max count of pixel x\". Updating name to \"max count of pixels x\".\n",
      "  warn(\n",
      "/home/sj/.local/lib/python3.10/site-packages/pyimzml/ontology/ontology.py:92: UserWarning: Accession IMS:1000043 found with incorrect name \"max count of pixel y\". Updating name to \"max count of pixels y\".\n",
      "  warn(\n",
      "/home/sj/.local/lib/python3.10/site-packages/pyimzml/ontology/ontology.py:92: UserWarning: Accession IMS:1000046 found with incorrect name \"pixel size x\". Updating name to \"pixel size (x)\".\n",
      "  warn(\n",
      "/home/sj/.local/lib/python3.10/site-packages/pyimzml/ontology/ontology.py:92: UserWarning: Accession MS:1000838 found with incorrect name \"sprayed\". Updating name to \"sprayed MALDI matrix preparation\".\n",
      "  warn(\n"
     ]
    }
   ],
   "source": [
    "MALDI_results['mean_spectrum'] = []\n",
    "MALDI_results['mean_white_matter_spectrum'] = []\n",
    "MALDI_results['mean_cortex_spectrum'] = []\n",
    "MALDI_results['masked_mzmaps'] = []\n",
    "MALDI_results['standardized_masked_mzmaps'] = []\n",
    "MALDI_results['mean_img'] = []\n",
    "MALDI_results['pca'] = []\n",
    "MALDI_results['bins'] = []\n",
    "MALDI_results['bincenters'] = []\n",
    "for sample_index in range(len(samples)):\n",
    "    ### LOAD DATA ###\n",
    "    if not os.path.isfile(paths[sample_index]):\n",
    "        paths[sample_index] = paths[sample_index].split('.')[0] + '_validated.' + paths[sample_index].split('.')[1]\n",
    "    M = MALDI(paths[sample_index], resolution = MALDI_parameters['resolution'], n_processes = MALDI_parameters['n_processes'], range_ = MALDI_parameters['global_range'])\n",
    "    ### GET RAW DATA ###\n",
    "    M_raw = rawMALDI(M.filename, M.resolution, M.range_, M.n_processes)\n",
    "    ### NORMALIZE DATA ###\n",
    "    M_raw.normalize(algorithm = MALDI_parameters['normalize'])\n",
    "    ### CALCULATE BINNED DATA ###\n",
    "    M_binned = binnedMALDI(M.filename, M.resolution, M.range_, M.n_processes, data_spectrum = M_raw.data_spectrum)\n",
    "    MALDI_results['bins'].append(M_binned.bins)\n",
    "    MALDI_results['bincenters'].append(M_binned.bincenters)\n",
    "    ### CALCULATE MEAN SPECTRA for full measurement and tissue regions ###\n",
    "    MALDI_results['mean_spectrum'].append(np.mean(M_binned.data_histo, axis = 0))\n",
    "    MALDI_results['mean_cortex_spectrum'].append(np.mean(M_binned.data_histo[MALDI_results['cluster_maps'][sample_index][M.map2D[:,0], M.map2D[:,1]] == 1], axis = 0))\n",
    "    MALDI_results['mean_white_matter_spectrum'].append(np.mean(M_binned.data_histo[MALDI_results['cluster_maps'][sample_index][M.map2D[:,0], M.map2D[:,1]] == 2], axis = 0))\n",
    "  \n",
    "    ### MASK BACKGROUND ###\n",
    "    MALDI_results['masked_mzmaps'].append(np.copy(MALDI_results['mzmaps'][sample_index]))\n",
    "    MALDI_results['masked_mzmaps'][sample_index][MALDI_results['cluster_maps'][sample_index] == 0, :] = None\n",
    "    MALDI_results['masked_mzmaps'][sample_index] = MALDI_results['masked_mzmaps'][sample_index].reshape(MALDI_results['shape'][sample_index][0]*MALDI_results['shape'][sample_index][1], n_peaks)\n",
    "    ### MEAN IMAGE OF PEAKMAPS ###\n",
    "    MALDI_results['mean_img'].append(np.sum(MALDI_results['masked_mzmaps'][sample_index], axis = 1))    \n",
    "    ### STANDARDIZE PEAKMAPS ###\n",
    "    MALDI_results['standardized_masked_mzmaps'].append((MALDI_results['masked_mzmaps'][sample_index] - np.nanmean(MALDI_results['masked_mzmaps'][sample_index], axis = 0)) / np.nanstd(MALDI_results['masked_mzmaps'][sample_index], axis = 0))\n",
    "\n",
    "    ### CALCULATE PCA ###\n",
    "    MALDI_results['pca'].append(PCA(n_components = n_peaks).fit(MALDI_results['standardized_masked_mzmaps'][sample_index][MALDI_results['cluster_maps'][sample_index].reshape(MALDI_results['shape'][sample_index][0]*MALDI_results['shape'][sample_index][1]) != 0, :]))\n",
    "    \n",
    "\n",
    "    \n",
    "    "
   ]
  },
  {
   "cell_type": "markdown",
   "id": "a5e57884-2fe9-4d06-bc91-a35feaa7b279",
   "metadata": {},
   "source": [
    "### PRINT AND STORE EVERYTHING"
   ]
  },
  {
   "cell_type": "code",
   "execution_count": 71,
   "id": "e85b258f-76d3-4bb6-872b-5847ca105b11",
   "metadata": {},
   "outputs": [
    {
     "data": {
      "image/png": "[encoded data removed]",
      "text/plain": [
       "<Figure size 864x216 with 1 Axes>"
      ]
     },
     "metadata": {
      "needs_background": "light"
     },
     "output_type": "display_data"
    },
    {
     "name": "stderr",
     "output_type": "stream",
     "text": [
      "/home/sj/.local/lib/python3.10/site-packages/pyimzml/ontology/ontology.py:92: UserWarning: Accession MS:1000563 found with incorrect name \"Thermo RAW file\". Updating name to \"Thermo RAW format\".\n",
      "  warn(\n",
      "/home/sj/.local/lib/python3.10/site-packages/pyimzml/ontology/ontology.py:92: UserWarning: Accession MS:1000590 found with incorrect name \"contact organization\". Updating name to \"contact affiliation\".\n",
      "  warn(\n",
      "/home/sj/.local/lib/python3.10/site-packages/pyimzml/ontology/ontology.py:92: UserWarning: Accession IMS:1000042 found with incorrect name \"max count of pixel x\". Updating name to \"max count of pixels x\".\n",
      "  warn(\n",
      "/home/sj/.local/lib/python3.10/site-packages/pyimzml/ontology/ontology.py:92: UserWarning: Accession IMS:1000043 found with incorrect name \"max count of pixel y\". Updating name to \"max count of pixels y\".\n",
      "  warn(\n",
      "/home/sj/.local/lib/python3.10/site-packages/pyimzml/ontology/ontology.py:92: UserWarning: Accession IMS:1000046 found with incorrect name \"pixel size x\". Updating name to \"pixel size (x)\".\n",
      "  warn(\n",
      "/home/sj/.local/lib/python3.10/site-packages/pyimzml/ontology/ontology.py:92: UserWarning: Accession MS:1000838 found with incorrect name \"sprayed\". Updating name to \"sprayed MALDI matrix preparation\".\n",
      "  warn(\n"
     ]
    },
    {
     "data": {
      "image/png": "[encoded data removed]",
      "text/plain": [
       "<Figure size 864x216 with 1 Axes>"
      ]
     },
     "metadata": {
      "needs_background": "light"
     },
     "output_type": "display_data"
    }
   ],
   "source": [
    "white_matter_color = '#EDB120'\n",
    "cortex_color = '#D95319'\n",
    "from matplotlib.colors import ListedColormap\n",
    "\n",
    "cmap = ListedColormap(['#0072BD', '#D95319', '#EDB120'])\n",
    "\n",
    "center_of_mass_limits = (680, 790)\n",
    "if not os.file.isdir(results_folder + 'peakmaps/'):\n",
    "    os.mkdir(results_folder + 'peakmaps/')\n",
    "if not os.file.isdir(results_folder + 'peakmaps/'):\n",
    "    os.mkdir(results_folder + 'pca/')\n",
    "\n",
    "### PLOT REGION DIFFERENCE IN MASS DISTRIBUTION ###\n",
    "plt.figure(figsize = (12,3))\n",
    "diffs = np.mean(MALDI_results['mean_white_matter_spectrum'], axis = 0)-np.mean(MALDI_results['mean_cortex_spectrum'], axis = 0)\n",
    "for peak in MALDI_results['selected_mzs'][:-1]:\n",
    "    plt.axvline(peak, linestyle = '--', color = 'grey', alpha = .3)\n",
    "plt.axvline(MALDI_results['selected_mzs'][-1], linestyle = '--', color = 'grey', label = 'selected peaks', alpha = .3)\n",
    "plt.plot(MALDI_results['bincenters'][0][diffs>0], diffs[diffs>0], linewidth = 1., color = white_matter_color, label = 'white matter dominating')\n",
    "plt.plot(MALDI_results['bincenters'][0][diffs<0], diffs[diffs<0], linewidth = 1., color = cortex_color, label = 'cortex dominating')\n",
    "plt.xlabel('$m/z$')\n",
    "plt.ylabel('(white matter - cortex)\\navrg intensity / a.u.')\n",
    "plt.xlim((550, 900))\n",
    "plt.legend(loc = 'best')\n",
    "plt.tight_layout()\n",
    "plt.savefig(results_folder + 'white-greyspec' + '_.png', transparent = True)\n",
    "plt.show()\n",
    "\n",
    "for sample_index in range(len(samples)):\n",
    "    M = MALDI(paths[sample_index], resolution = MALDI_parameters['resolution'], n_processes = MALDI_parameters['n_processes'], range_ = MALDI_parameters['global_range'])\n",
    "\n",
    "    ### PLOT MEAN SPECTRUM ###\n",
    "    plt.figure(figsize = (12,3))\n",
    "    for peak in MALDI_results['selected_mzs'][:-1]:\n",
    "        plt.axvline(peak, linestyle = '--', color = 'r', alpha = .5)\n",
    "    plt.axvline(MALDI_results['selected_mzs'][-1], linestyle = '--', color = 'r', label = 'selected peaks', alpha = .5)\n",
    "    plt.plot(MALDI_results['bincenters'][sample_index], MALDI_results['mean_spectrum'][sample_index], linewidth = 1., color = 'k', label = 'average spectrum')\n",
    "    plt.xlabel('$m/z$')\n",
    "    plt.ylabel('intensity/a.u.')\n",
    "    plt.legend(loc = 'best')\n",
    "    plt.tight_layout()\n",
    "    plt.savefig(results_folder + samples[sample_index] + '_meanspec.png', transparent = True)\n",
    "    plt.show()    \n",
    "\n",
    "    ### PLOT TOTAL ION CURRENT MAP ###\n",
    "    plt.imsave(results_folder + samples[sample_index] + '_TIC.png', np.log(M.get_2D(MALDI_results['TIC'][sample_index]/np.mean(MALDI_results['TIC'][sample_index]))), vmin =np.log(1/5), vmax =np.log(1*5), cmap = 'coolwarm')\n",
    "\n",
    "    ### PLOT CENTER OF MASS MAP ###\n",
    "    min_ = np.nanmin(MALDI_results['center_of_mass'][sample_index])\n",
    "    com_image = M.get_2D(MALDI_results['center_of_mass'][sample_index])\n",
    "    com_image[MALDI_results['cluster_maps'][sample_index] == 0] = min_\n",
    "    plt.imsave(results_folder + samples[sample_index] + '_center_of_mass.png', com_image, vmin = center_of_mass_limits[0], vmax = center_of_mass_limits[1])\n",
    "    plt.imshow(com_image, vmin = center_of_mass_limits[0], vmax = center_of_mass_limits[1])\n",
    "    plt.show()\n",
    "\n",
    "    ### PLOT AND STORE SELECTED PEAK MAPS ###\n",
    "    for peak in range(5):#len(MALDI_results['selected_mzs'])):\n",
    "        img = MALDI_results['masked_mzmaps'][sample_index][:,peak].reshape(MALDI_results['shape'][sample_index][0], MALDI_results['shape'][sample_index][1])\n",
    "        img_standardized = MALDI_results['standardized_masked_mzmaps'][sample_index][:,peak].reshape(MALDI_results['shape'][sample_index][0], MALDI_results['shape'][sample_index][1])\n",
    "        #img[np.isnan(img)] = np.nanmin(img)\n",
    "        #img_standardized[np.isnan(img_standardized)] = np.nanmin(img_standardized)\n",
    "        plt.imsave(results_folder + 'peakmaps/' + samples[sample_index] + '_mz' + str(peak+1).zfill(2) + '_view.png', img)\n",
    "        plt.imsave(results_folder + 'peakmaps/' + samples[sample_index] + '_mz' + str(peak+1).zfill(2) + '_view_standardized.png', img_standardized)\n",
    "        np.savetxt(results_folder + 'peakmaps/' + samples[sample_index] + '_mz' + str(peak+1).zfill(2) + '_map.csv', img, delimiter = ',')\n",
    "        np.savetxt(results_folder + 'peakmaps/' + samples[sample_index] + '_mz' + str(peak+1).zfill(2) + '_map_standardized.csv', img_standardized, delimiter = ',')\n",
    "    \n",
    "    ### PLOT AND STORE MASK MAP ###\n",
    "    plt.imsave(results_folder + samples[sample_index] + '_mask.png', MALDI_results['cluster_maps'][sample_index], cmap = cmap)\n",
    "    np.savetxt(results_folder + samples[sample_index] + '_mask.csv', MALDI_results['cluster_maps'][sample_index], delimiter = ',')\n",
    "    plt.imshow(MALDI_results['cluster_maps'][sample_index], cmap = cmap))\n",
    "    plt.show()\n",
    "    \n",
    "    ### PLOT AND STORE 1st AND 2nd PCA COMPONENTS AND EXPLAINED VAIANCE ###\n",
    "    results = np.zeros((MALDI_results['shape'][sample_index][0]*MALDI_results['shape'][sample_index][1], n_peaks))\n",
    "    results[MALDI_results['cluster_maps'][sample_index].reshape(MALDI_results['shape'][sample_index][0]*MALDI_results['shape'][sample_index][1]) != 0,:] = MALDI_results['pca'][sample_index].transform(MALDI_results['standardized_masked_mzmaps'][sample_index][MALDI_results['cluster_maps'][sample_index].reshape(MALDI_results['shape'][sample_index][0]*MALDI_results['shape'][sample_index][1]) != 0])\n",
    "\n",
    "    if np.corrcoef(results[MALDI_results['cluster_maps'][sample_index].reshape(MALDI_results['shape'][sample_index][0]*MALDI_results['shape'][sample_index][1]) != 0,0], MALDI_results['mean_img'][sample_index][MALDI_results['cluster_maps'][sample_index].reshape(MALDI_results['shape'][sample_index][0]*MALDI_results['shape'][sample_index][1]) != 0,])[0,1] < 0:\n",
    "        components0 = -1*MALDI_results['pca'][sample_index].components_[0,:]\n",
    "        pcamap0 = -1*results[:,0].reshape((MALDI_results['shape'][sample_index][0], MALDI_results['shape'][sample_index][1]))\n",
    "    else:\n",
    "        components0 = MALDI_results['pca'][sample_index].components_[0,:]\n",
    "        pcamap0 = results[:,0].reshape((MALDI_results['shape'][sample_index][0], MALDI_results['shape'][sample_index][1]))\n",
    "    if np.corrcoef(results[MALDI_results['cluster_maps'][sample_index].reshape(MALDI_results['shape'][sample_index][0]*MALDI_results['shape'][sample_index][1]) != 0,1], MALDI_results['mean_img'][sample_index][MALDI_results['cluster_maps'][sample_index].reshape(MALDI_results['shape'][sample_index][0]*MALDI_results['shape'][sample_index][1]) != 0,])[0,1] < 0:\n",
    "        components1 = -1*MALDI_results['pca'][sample_index].components_[1,:]\n",
    "        pcamap1 = -1*results[:,1].reshape((MALDI_results['shape'][sample_index][0], MALDI_results['shape'][sample_index][1]))\n",
    "    else:\n",
    "        components1 = MALDI_results['pca'][sample_index].components_[1,:]\n",
    "        pcamap1 = results[:,1].reshape((MALDI_results['shape'][sample_index][0], MALDI_results['shape'][sample_index][1]))\n",
    "    ev = MALDI_results['pca'][sample_index].explained_variance_\n",
    "    \n",
    "    plt.imsave(results_folder + 'pca/' + samples[sample_index] + '_map1.png', pcamap0)\n",
    "    plt.imsave(results_folder + 'pca/' + samples[sample_index] + '_map2.png', pcamap1)\n",
    "    np.savetxt(results_folder + 'pca/' + samples[sample_index] + '_map1.csv', pcamap0, delimiter = ',')\n",
    "    np.savetxt(results_folder + 'pca/' + samples[sample_index] + '_components1.csv', components0, delimiter = ',')\n",
    "    np.savetxt(results_folder + 'pca/' + samples[sample_index] + '_map2.csv', pcamap1, delimiter = ',')\n",
    "    np.savetxt(results_folder + 'pca/' + samples[sample_index] + '_components2.csv', components1, delimiter = ',')\n",
    "    np.savetxt(results_folder + 'pca/' + samples[sample_index] + '_ev.csv', ev, delimiter = ',')\n",
    "    plt.show(pcamap0)\n",
    "    plt.imshow()\n",
    "### STORE GENERAL DICT ###\n",
    "np.save(results_folder + 'MALDI_results.npy', MALDI_results)\n",
    "np.save(results_folder + 'MALDI_parameters.npy', MALDI_parameters)"
   ]
  }
 ],
 "metadata": {
  "kernelspec": {
   "display_name": "Python 3",
   "language": "python",
   "name": "python3"
  },
  "language_info": {
   "codemirror_mode": {
    "name": "ipython",
    "version": 3
   },
   "file_extension": ".py",
   "mimetype": "text/x-python",
   "name": "python",
   "nbconvert_exporter": "python",
   "pygments_lexer": "ipython3",
   "version": "3.10.5"
  }
 },
 "nbformat": 4,
 "nbformat_minor": 5
}
